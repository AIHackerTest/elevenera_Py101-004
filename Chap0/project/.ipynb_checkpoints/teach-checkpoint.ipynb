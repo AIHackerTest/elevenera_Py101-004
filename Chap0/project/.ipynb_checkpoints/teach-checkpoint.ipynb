{
 "cells": [
  {
   "cell_type": "markdown",
   "metadata": {},
   "source": [
    "# 编程新手村入门攻略\n",
    " 先啰嗦几句，总结一下作为一个编程新手的入门心态。\n",
    ">1. 开始学习编程的这段时间，个人体会最重要的一点是不要怕，不要被未知的恐惧吓到而望而却步。\n",
    "2. 从命令行开始学习，到用python编程，越学习越觉得这是一个深坑，需要长期不断的探索。\n",
    "3. 遇到问题不要慌，善于利用Google等搜索利器，主要挑选官方文档或者传播广、认可度和可信度高的答案。"
   ]
  },
  {
   "cell_type": "markdown",
   "metadata": {},
   "source": [
    "总结一下python用到的基础概念。"
   ]
  },
  {
   "cell_type": "markdown",
   "metadata": {},
   "source": [
    "## 数据类型\n",
    "1. String(字符串)，例如：str=\"this is string\"\n",
    "2. Bool(布尔类型)，例如：bool=False; bool=True\n",
    "3. Numbers（数字），包括整数，例如：int = 20；浮点数,例如：float ＝ 2.3\n",
    "4. List（列表）,例如：list=['physics', 'chemistry', 1997, 2000]; nums=[1, 3, 5, 7, 8, 13, 20]\n",
    "5. Dictionary（字典），是除列表之外python中最灵活的内置数据结构类型。列表是有序的对象结合，字典是无序的对象集合。两者之间的区别在于：字典当中的元素是通过键来存取的，而不是通过偏移存取。字典由键和对应的值组成。例如：\n",
    "`dict = {'Alice': '2341', 'Beth': '9102', 'Cecil': '3258'}`\n",
    "6. Tuple（元组），Python的元组与列表类似，不同之处在于元组的元素不能修改；元组使用小括号()，列表使用方括号[]；元组创建很简单，只需要在括号中添加元素，并使用逗号(,)隔开即可，例如：\n",
    "```\n",
    "tup1 = ('physics', 'chemistry', 1997, 2000);\n",
    "tup2 = (1, 2, 3, 4, 5 );\n",
    "tup3 = \"a\", \"b\", \"c\", \"d\";\n",
    "```"
   ]
  },
  {
   "cell_type": "markdown",
   "metadata": {
    "collapsed": true
   },
   "source": [
    "## 变量\n",
    "- python学习过程中会用到许多数据，那为了方便操作，需要把这些数据分别用一个简单的名字代表，方便在接下来的程序中引用。变量就是代表某个数据(值)的名称。\n",
    "- python 变量赋值操作，例如：x ＝5。在赋值时，值是什么数据类型，就决定了这个变量的类型，变量名引用了数值的同时也引用了它的类型。\n",
    "- 变量命名规范\n",
    "  1. 变量名可以包括字母、数字、下划线，但是数字不能做为开头。例如：name1是合法变量名，而1name就不可以。\n",
    "  2. 系统关键字不能做变量名使用\n",
    "  3. 除了下划线之个，其它符号不能做为变量名使用\n",
    "  4. Python的变量名是除分大小写的，例如：name和Name就是两个变量名，而非相同变量哦。 "
   ]
  },
  {
   "cell_type": "markdown",
   "metadata": {},
   "source": [
    "\n",
    "## 函数\n",
    "### 创建函数\n",
    "- 写一个函数注意事项，以供后续参考：\n",
    "   - 函数定义以def开始？\n",
    "   - 函数名是以字符和下划线组成的？\n",
    "   - 函数名是不是紧跟着括号（？\n",
    "   - 括号里是否包含参数？多个参数是否以逗号隔开？\n",
    "   - 参数名是否有重复？（不能使用重复的参数名）\n",
    "   - 紧跟着参数的是不是括号喝冒号（）：）？\n",
    "   - 紧跟着函数定义的代码是否使用了4个空格的缩紧？\n",
    "   - 函数结束的位置是否取消了缩紧？\n",
    "- 示例："
   ]
  },
  {
   "cell_type": "code",
   "execution_count": 10,
   "metadata": {},
   "outputs": [
    {
     "name": "stdout",
     "output_type": "stream",
     "text": [
      "arg1: 'liu', arg2: 'eleven'\n",
      "arg1: 'liu', arg2: 'eleven'\n",
      "arg1: 'frist!'\n",
      "I got nothing'.\n"
     ]
    }
   ],
   "source": [
    "# this one is like your scripts with argv\n",
    "def print_two(*args):\n",
    "    arg1, arg2 = args\n",
    "    print(\"arg1: %r, arg2: %r\" % (arg1, arg2))\n",
    "    \n",
    "# ok,that *args is actually pointless, we can just do this\n",
    "def print_two_again(arg1, arg2):\n",
    "    print(\"arg1: %r, arg2: %r\" % (arg1, arg2))\n",
    "    \n",
    "# this just takes one argument\n",
    "def print_one(arg1):\n",
    "    print(\"arg1: %r\" % arg1)\n",
    "    \n",
    "#this one takes no arguments\n",
    "def print_none():\n",
    "    print(\"I got nothing'.\")\n",
    "    \n",
    "    \n",
    "print_two(\"liu\", \"eleven\")\n",
    "print_two_again(\"liu\", \"eleven\")\n",
    "print_one(\"frist!\")\n",
    "print_none()"
   ]
  },
  {
   "cell_type": "markdown",
   "metadata": {},
   "source": [
    "## 条件语句－if、elif和else\n",
    "### if语句\n",
    "- if语句为代码创建了一个所谓的“分支”。\n",
    "- if语句告诉脚本：如果这个布尔表达式为真，就运行接下来的代码，否则就跳过这一段。\n",
    "- if语句的下一行需要4个空格的缩进。\n",
    "- 行尾冒号的作用是：告诉python接下来要创建一个代码块。跟创建函数时的冒号一个道理。\n",
    "\n",
    "### elif 语句\n",
    "- elif语句的作用是检查多个子句，更多条件时使用。\n",
    "- 如果多个elif块都是True，python会如何处理？\n",
    "python只会运行它遇到的是True的第一个块，所以只有第一个True的块会运行。\n",
    "\n",
    "### else\n",
    "- 它将在 if 、elif语句未满足的情况时工作。\n",
    "\n",
    "示例："
   ]
  },
  {
   "cell_type": "code",
   "execution_count": 11,
   "metadata": {},
   "outputs": [
    {
     "name": "stdout",
     "output_type": "stream",
     "text": [
      "We should take the cars.\n",
      "Maybe we should take the buses.\n",
      "Alright, let's just take the buses.\n",
      " look what will be?\n"
     ]
    }
   ],
   "source": [
    "people =30\n",
    "cars =40\n",
    "buses = 15\n",
    "\n",
    "\n",
    "if cars > people:\n",
    "    print(\"We should take the cars.\")\n",
    "elif cars < people:\n",
    "    print(\"We should not take the cars.\")\n",
    "else:\n",
    "    print(\"We can't decide.\")\n",
    "    \n",
    "if buses > cars:\n",
    "    print(\"That's too many buses.\")\n",
    "elif buses < cars:\n",
    "    print(\"Maybe we should take the buses.\")\n",
    "else:\n",
    "    print(\"We still can't decide.\")\n",
    "    \n",
    "if people > buses:\n",
    "    print(\"Alright, let's just take the buses.\")\n",
    "else:\n",
    "    print(\"Fine, let's stay home then.\")\n",
    "    \n",
    "    \n",
    "if cars > people and buses < cars:\n",
    "    print(\" look what will be?\")\n",
    "else:\n",
    "    print(\" nothing.\")"
   ]
  },
  {
   "cell_type": "markdown",
   "metadata": {
    "collapsed": true
   },
   "source": [
    "## 循环和列表\n",
    "### 列表\n",
    "- 序列是Python中最基本的数据结构。序列中的每个元素都分配一个数字 - 它的位置，或索引，第一个索引是0，第二个索引是1，依此类推。\n",
    "\n",
    "  - Python有6个序列的内置类型，但最常见的是列表和元组。\n",
    "\n",
    "   - 序列都可以进行的操作包括索引，切片，加，乘，检查成员。\n",
    "\n",
    "   - 此外，Python已经内置确定序列的长度以及确定最大和最小的元素的方法。\n",
    "\n",
    "   - 列表是最常用的Python数据类型，它可以作为一个方括号内的逗号分隔值出现。\n",
    "\n",
    "   - 列表的数据项不需要具有相同的类型\n",
    "\n",
    "- 创建一个列表，只要把逗号分隔的不同的数据项使用方括号括起来即可。如下所示：\n",
    "```\n",
    "list1 = ['physics', 'chemistry', 1997, 2000];\n",
    "list2 = [1, 2, 3, 4, 5 ];\n",
    "list3 = [\"a\", \"b\", \"c\", \"d\"];\n",
    "```\n",
    "与字符串的索引一样，列表索引从0开始。列表可以进行截取、组合等。\n",
    "- 访问列表中的值\n",
    "\n",
    "使用下标索引来访问列表中的值，同样你也可以使用方括号的形式截取字符，示例："
   ]
  },
  {
   "cell_type": "code",
   "execution_count": 13,
   "metadata": {},
   "outputs": [
    {
     "name": "stdout",
     "output_type": "stream",
     "text": [
      "list1[0]:  physics\n",
      "list2[1:5]:  [2, 3, 4, 5]\n"
     ]
    }
   ],
   "source": [
    "#!/usr/bin/python\n",
    "\n",
    "list1 = ['physics', 'chemistry', 1997, 2000];\n",
    "list2 = [1, 2, 3, 4, 5, 6, 7 ];\n",
    "\n",
    "print(\"list1[0]: \", list1[0])\n",
    "print(\"list2[1:5]: \", list2[1:5])"
   ]
  },
  {
   "cell_type": "markdown",
   "metadata": {},
   "source": [
    "### 循环\n",
    "- 使用循环创建一些列表，然后将它们打印出来。\n",
    "- for循环可以使用未定义的变量？\n",
    "循环开始时这个变量就被定义了，当然**每次循环他都会被重新定义一次**。\n",
    "#### 示例："
   ]
  },
  {
   "cell_type": "code",
   "execution_count": 14,
   "metadata": {},
   "outputs": [
    {
     "name": "stdout",
     "output_type": "stream",
     "text": [
      "this is count 1\n",
      "this is count 2\n",
      "this is count 3\n",
      "this is count 4\n",
      "this is count 5\n",
      "A fruit type: apples\n",
      "A fruit type: oranges\n",
      "A fruit type: pears\n",
      "A fruit type: apricots\n",
      "I got 1\n",
      "I got 'pennies'\n",
      "I got 2\n",
      "I got 'dimes'\n",
      "I got 3\n",
      "I got 'quarters'\n"
     ]
    }
   ],
   "source": [
    "the_count = [1, 2, 3, 4, 5]\n",
    "fruits = ['apples', 'oranges', 'pears', 'apricots']\n",
    "change = [1, 'pennies', 2, 'dimes', 3, 'quarters']\n",
    "\n",
    "# this first kind of for-loop goes through a list\n",
    "for number in the_count:\n",
    "    print(\"this is count %d\" % number)\n",
    "    \n",
    "# same as above \n",
    "for fruit in fruits:\n",
    "    print( \"A fruit type: %s\" % fruit)\n",
    "    \n",
    "# also we can go through mixed lists too\n",
    "# notice we have to use %r since we don't know what's in it\n",
    "for i in change:\n",
    "    print(\"I got %r\" % i)"
   ]
  },
  {
   "cell_type": "markdown",
   "metadata": {},
   "source": [
    "### range的用法\n",
    "- range()函数：\n",
    "rang()函数从第一个数到最后一个数，但**不包含最后一个数**。\n",
    "如下：\n",
    " ```\n",
    ">>> range(1,5) #代表从1到5(不包含5)[1, 2, 3, 4]\n",
    ">>> range(1,5,2) #代表从1到5，间隔2(不包含5)[1, 3]\n",
    ">>> range(5) #代表从0到5(不包含5)[0, 1, 2, 3, 4]\n",
    "```"
   ]
  },
  {
   "cell_type": "code",
   "execution_count": 15,
   "metadata": {},
   "outputs": [
    {
     "name": "stdout",
     "output_type": "stream",
     "text": [
      "Adding 0 to the list.\n",
      "Adding 1 to the list.\n",
      "Adding 2 to the list.\n",
      "Adding 3 to the list.\n",
      "Adding 4 to the list.\n",
      "Adding 5 to the list.\n",
      " Element was: 0 \n",
      " Element was: 1 \n",
      " Element was: 2 \n",
      " Element was: 3 \n",
      " Element was: 4 \n",
      " Element was: 5 \n"
     ]
    }
   ],
   "source": [
    "# we can also build lists, first start with a empty one\n",
    "elements =range(0,6)\n",
    "\n",
    "#then use the range function to do 0 to 5 counts\n",
    "for i in elements:\n",
    "    print(\"Adding %d to the list.\" % i)\n",
    "    # append is a function that lists understand\n",
    "       \n",
    "# now we can print them out too\n",
    "for i in elements:\n",
    "    print(\" Element was: %d \" % i)"
   ]
  },
  {
   "cell_type": "markdown",
   "metadata": {},
   "source": [
    "## while 循环\n",
    "\n",
    "#### 只要给定条件为真(True)，Python编程语言中的while循环语句将重复执行目标语句。\n",
    "### 语法\n",
    "\n",
    "Python编程语言中的while循环的语法是:\n",
    "```\n",
    "while expression:\n",
    "    statement(s)\n",
    "```\n",
    "- 在这里，语句(statement(s))可以是一个单一的语句或一组具有统一缩进的语句。条件(expression)可以是任何表达式，True是任何非零值。循环在条件为真时执行。\n",
    "\n",
    "- 当条件(expression)变为false时，程序控制传递到循环之后的代码行。\n",
    "\n",
    "- 在Python中，在编程结构之后由相同数量的字符空格缩进的所有语句都被认为是单个代码块的一部分。 Python使用缩进作为对语句进行分组的方法。\n",
    "\n",
    "- 在这里，while循环的一个关键点在于循环可能不会运行。 当条件被测试并且结果为假时，循环体将被跳过，并且while循环块之后的第一个语句将被执行。\n",
    "\n",
    "### 示例"
   ]
  },
  {
   "cell_type": "code",
   "execution_count": 16,
   "metadata": {},
   "outputs": [
    {
     "name": "stdout",
     "output_type": "stream",
     "text": [
      "The count is: 0\n",
      "The count is: 1\n",
      "The count is: 2\n",
      "The count is: 3\n",
      "The count is: 4\n",
      "The count is: 5\n",
      "The count is: 6\n",
      "The count is: 7\n",
      "The count is: 8\n",
      "Good bye!\n"
     ]
    }
   ],
   "source": [
    "#!/usr/bin/python3\n",
    "\n",
    "count = 0\n",
    "while (count < 9):\n",
    "   print ('The count is:', count)\n",
    "   count = count + 1\n",
    "\n",
    "print(\"Good bye!\")"
   ]
  },
  {
   "cell_type": "markdown",
   "metadata": {
    "collapsed": true
   },
   "source": [
    "在上面输出结果中，打印和增量语句组成的块将重复执行，直到count大于9时退出。在每次迭代中，打印显示count的当前值，然后增加1。\n",
    "\n",
    "### 无限循环\n",
    "- tips:\n",
    "如果条件从不变为FALSE，则循环变为无限循环。 使用while循环时必须谨慎，因为在无法解析为FALSE值的这种情况时，将导致永远不会结束的循环。这样的循环被称为**无限循环**。\n",
    "\n",
    "- while True:\n",
    "创建无限循环。\n",
    "- 示例："
   ]
  },
  {
   "cell_type": "code",
   "execution_count": null,
   "metadata": {},
   "outputs": [],
   "source": [
    " while True:\n",
    "         next = input(\">\")\n",
    "         \n",
    "         if next == \"take money\":\n",
    "             dead(\"The bear looks at you then slaps your face off.\")\n",
    "         elif next == \"taunt bear\" and not bear_moved:\n",
    "             print(\"The bear has moved from the door. You can go through it now.\")\n",
    "             bear_moved = True\n",
    "         elif next == \"taunt bear\" and bear_moved:\n",
    "             dead(\"The bear gets pissed off and chews your leg off.\")\n",
    "         elif next == \"open door\" and bear_moved:\n",
    "             gold_room()\n",
    "         else:\n",
    "             print(\"I got no idea what that means.\")"
   ]
  },
  {
   "cell_type": "markdown",
   "metadata": {},
   "source": [
    "### exit()的功能：\n",
    "可以中断某个程序，其中的数字参数用来表示程序是否遇到错误而中断。\n",
    "- exit(1)：表示发生了错误；\n",
    "- exit(0)：表示程序是正常退出的。"
   ]
  },
  {
   "cell_type": "markdown",
   "metadata": {},
   "source": [
    "## 参考资料\n",
    "- 《笨办法学Python》\n",
    "- 官方文档"
   ]
  }
 ],
 "metadata": {
  "kernelspec": {
   "display_name": "Python 3",
   "language": "python",
   "name": "python3"
  },
  "language_info": {
   "codemirror_mode": {
    "name": "ipython",
    "version": 3
   },
   "file_extension": ".py",
   "mimetype": "text/x-python",
   "name": "python",
   "nbconvert_exporter": "python",
   "pygments_lexer": "ipython3",
   "version": "3.6.1"
  }
 },
 "nbformat": 4,
 "nbformat_minor": 2
}
