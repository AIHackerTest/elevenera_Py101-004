{
 "cells": [
  {
   "cell_type": "markdown",
   "metadata": {},
   "source": [
    "# ch1-基于CLI完成首个MVP\n",
    "本周ch1的任务是：完成一个最简天气查询程序，运行在命令行界面。\n",
    "实现以下功能：\n",
    ">1. 输入城市名，返回该城市的天气数据\n",
    "2. 输入指令‘help’，打印帮助文档\n",
    "3. 输入指令‘quit’，退出程序的交互\n",
    "4. 在退出程序前，打印查询过的所有城市\n",
    "\n",
    "## 编程思维\n",
    "1. MVP最小可实现模型思维，尝试、验证核心功能\n",
    "2. 大而复杂的任务，要学会拆解细分到小任务\n",
    "3. 制定开发计划，按照计划逐步实现\n",
    "\n",
    "## 用字典dict存储数据\n"
   ]
  },
  {
   "cell_type": "markdown",
   "metadata": {},
   "source": [
    "### 创建字典\n",
    "- 参考资料：[python3.6官方文档](https://docs.python.org/3.6/library/stdtypes.html#typesmapping)\n",
    "- 代码示例："
   ]
  },
  {
   "cell_type": "code",
   "execution_count": 9,
   "metadata": {},
   "outputs": [
    {
     "data": {
      "text/plain": [
       "True"
      ]
     },
     "execution_count": 9,
     "metadata": {},
     "output_type": "execute_result"
    }
   ],
   "source": [
    ">>> a = dict(one=1, two=2, three=3)\n",
    ">>> b = {'one': 1, 'two': 2, 'three': 3}\n",
    ">>> c = dict(zip(['one', 'two', 'three'], [1, 2, 3]))\n",
    ">>> d = dict([('two', 2), ('one', 1), ('three', 3)])\n",
    ">>> e = dict({'three': 3, 'one': 1, 'two': 2})\n",
    ">>> a == b == c == d == e"
   ]
  },
  {
   "cell_type": "markdown",
   "metadata": {},
   "source": [
    "### 字典中的循环\n",
    "- 参考资料：[looping Techniques](https://docs.python.org/3.6/tutorial/datastructures.html#dictionaries)"
   ]
  },
  {
   "cell_type": "code",
   "execution_count": 11,
   "metadata": {},
   "outputs": [
    {
     "name": "stdout",
     "output_type": "stream",
     "text": [
      "gallahad the pure\n",
      "robin the brave\n"
     ]
    }
   ],
   "source": [
    ">>> knights = {'gallahad': 'the pure', 'robin': 'the brave'}\n",
    ">>> for k, v in knights.items():\n",
    "        print(k, v)"
   ]
  },
  {
   "cell_type": "markdown",
   "metadata": {},
   "source": [
    "### ch1任务把文件中的数据存储在字典中\n",
    "代码示例："
   ]
  },
  {
   "cell_type": "code",
   "execution_count": 3,
   "metadata": {
    "collapsed": true
   },
   "outputs": [],
   "source": [
    "dic = {}\n",
    "\n",
    "with open('weather_info.txt','r', encoding='utf-8') as f:\n",
    "    for line in f.readlines():\n",
    "        key, value =line.strip().split(',')\n",
    "        dic[key] = value"
   ]
  },
  {
   "cell_type": "markdown",
   "metadata": {},
   "source": [
    "- 知识点：\n",
    "    1. 用‘with...as f:’操作文件，让代码更简洁优雅，取代了open()、f.read()\\readlines()和f.close()\n",
    "    2. 对于文件，是f.read()还是f.readlines()，根据使用场景判断，文件中的格式是每行‘城市，天气’，所以确定用f.readline()\n",
    "    3. strip()函数用于删除字符串中首、尾的字符，空的时候默认删除/n等字符\n",
    "    4. split()函数用于分割，split(',')就是从‘，’分割，可以用split(',', 1)数字表示分割几次\n",
    "    5. 用两个变量key,value赋值文件中的城市和天气两项数据\n",
    "    6. d[key]=value, Set d[key] to value.完成了字典中键和值的对应。\n",
    "    7. encoding='utf-8', Python 3的字符串使用Unicode，直接支持多语言。str和bytes互相转换时，需要指定编码。最常用的编码是UTF-8。"
   ]
  },
  {
   "cell_type": "markdown",
   "metadata": {},
   "source": [
    "### 字典常用方法\n",
    "\n",
    "1. adict.keys() 返回一个包含字典所有KEY的列表；\n",
    "2. adict.values() 返回一个包含字典所有value的列表；\n",
    "3. adict.items() 返回一个包含所有（键，值）元祖的列表；\n",
    "4. adict.clear() 删除字典中的所有项或元素；\n",
    "5. adict.copy() 返回一个字典浅拷贝的副本；\n",
    "6. adict.fromkeys(seq, val=None) 创建并返回一个新字典，以seq中的元素做该字典的键，val做该字典中所有键对应的初始值（默认为None）；\n",
    "7. adict.get(key, default = None) 返回字典中key对应的值，若key不存在字典中，则返回default的值（default默认为None）；\n",
    "8. adict.pop(key[,default]) 和get方法相似。如果字典中存在key，删除并返回key对应的vuale；如果key不存在，且没有给出default的值，则引发keyerror异常；\n",
    "\n",
    "### 列表和字典有什么不同？\n",
    "- 列表是有序排列的一些物件；\n",
    "- 字典的内容是无序的。是将一些物件（键）对应到（值）的数据结构。\n",
    "- 字典用在各种需要通过某个值去查看另一个值的场合。可以把字典当作“查询表”。\n",
    "- 列表是专供有序排列的数据使用的。只要知道索引就能查到对应的值了。\n"
   ]
  },
  {
   "cell_type": "markdown",
   "metadata": {},
   "source": [
    "## 用列表list存储数据\n",
    "代码示例："
   ]
  },
  {
   "cell_type": "code",
   "execution_count": null,
   "metadata": {},
   "outputs": [],
   "source": [
    "history = []\n",
    "while True:\n",
    "    user_input = input(\"请输入指令或您要查询的城市名：\")\n",
    "\n",
    "    if user_input in dic.keys():\n",
    "        weather = dic[user_input]\n",
    "        weather_history = \"{}的天气情况是：{}\".format(user_input, weather)\n",
    "        print(weather_history)\n",
    "        history.append(weather_history)\n",
    "\n",
    "    elif user_input == \"history\":\n",
    "        print(\"您的查询历史是：\")\n",
    "        for weather_history in history:\n",
    "            print(weather_history)\n",
    "    \n",
    "    elif user_input == \"help\":\n",
    "        print(\"\"\"\n",
    "        直接输入城市名称查询对应天气\n",
    "        输入'help'，查看如何使用\n",
    "        输入‘history’，查看历史记录\n",
    "        输入'quit'，退出程序\n",
    "        \"\"\")\n",
    "\n",
    "    elif user_input == \"quit\":\n",
    "        print(\"退出程序\")\n",
    "        exit(1)\n",
    "\n",
    "    else:\n",
    "        print(\"未找到对象，请输入'help'查看帮助\")\n"
   ]
  },
  {
   "cell_type": "markdown",
   "metadata": {},
   "source": [
    "### while True\n",
    "- 保证程序一直运行，而不是执行一次就停\n",
    "\n",
    "### 格式化字符串\n",
    "这里有个格式化字符的运用：\n",
    "- `weather_history = \"{}的天气情况是：{}\".format(user_input, weather)`\n",
    "\n",
    "格式化字符串str.format 和%-formatting：\n",
    "- old：'%s %s' % ('one', 'two')\n",
    "- new：'{} {}'.format('one', 'two')\n",
    "\n",
    "示例如下："
   ]
  },
  {
   "cell_type": "code",
   "execution_count": null,
   "metadata": {
    "collapsed": true
   },
   "outputs": [],
   "source": [
    ">>> '{0}, {1}, {2}'.format('a', 'b', 'c')\n",
    "'a, b, c'\n",
    ">>> '{}, {}, {}'.format('a', 'b', 'c')  # 2.7+ only\n",
    "'a, b, c'\n",
    ">>> '{2}, {1}, {0}'.format('a', 'b', 'c')\n",
    "'c, b, a'\n",
    ">>> '{2}, {1}, {0}'.format(*'abc')      # unpacking argument sequence\n",
    "'c, b, a'\n",
    ">>> '{0}{1}{0}'.format('abra', 'cad')   # arguments' indices can be repeated\n",
    "'abracadabra'"
   ]
  },
  {
   "cell_type": "markdown",
   "metadata": {},
   "source": [
    "### 列表尾部添加元素\n",
    "- list.append()在列表尾部添加元素\n",
    "- 如本任务中的‘history.append(weather_history)’，生成列表history"
   ]
  },
  {
   "cell_type": "markdown",
   "metadata": {},
   "source": [
    "# 参考资料\n",
    "- [python3官方文档](https://docs.python.org/3.6/library/stdtypes.html#typesmapping)\n",
    "- [官方文档dict](https://docs.python.org/3.6/tutorial/datastructures.html#dictionaries)\n",
    "- [廖雪峰官方网站](https://www.liaoxuefeng.com/wiki/0014316089557264a6b348958f449949df42a6d3a2e542c000/001431664106267f12e9bef7ee14cf6a8776a479bdec9b9000)"
   ]
  }
 ],
 "metadata": {
  "kernelspec": {
   "display_name": "Python 3",
   "language": "python",
   "name": "python3"
  },
  "language_info": {
   "codemirror_mode": {
    "name": "ipython",
    "version": 3
   },
   "file_extension": ".py",
   "mimetype": "text/x-python",
   "name": "python",
   "nbconvert_exporter": "python",
   "pygments_lexer": "ipython3",
   "version": "3.6.1"
  }
 },
 "nbformat": 4,
 "nbformat_minor": 2
}
