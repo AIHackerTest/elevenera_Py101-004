{
 "cells": [
  {
   "cell_type": "markdown",
   "metadata": {},
   "source": [
    "## Ch2-调用API，连接真实世界\n",
    "### 本周主要目标：\n",
    "1. 了解API是什么，分为系统级和第三方软件API。\n",
    "2. 学会通过调用API接口，实现与其他程序的链接。\n",
    "3. 通过API链接，使得程序共享，更加开放和多样化。\n",
    "\n",
    "### 本周知识点：\n",
    "1. 选择合适的API\n",
    "2. 通过requests模块对API发送请求，获取实时天气信息\n",
    "3. 解码从API获取到数据，可以用json处理API返回的数据\n",
    "\n",
    "### 1 选择合适的API\n",
    "\n",
    "#### API集市：\n",
    "1. [APIstore](http://apistore.baidu.com/)\n",
    "2. [APIproviders](https://apigee.com/about/cp/api-management-providers)\n",
    "3. 其他参照开智app／py104课程卡包／ch2任务提示／常用API集市，包括腾讯、百度、京东等API服务\n",
    "\n",
    "#### 选择API的时候注意:\n",
    "1. 有python的demo\n",
    "2. 数据源可靠\n",
    "3. 使用上有哪些限制，比如收费等\n",
    "\n",
    "### 2 通过requests模块对API发生请求\n",
    "- 选择好合适的API（这里我选择“心知天气”）后，可以查看相应的demo\n",
    "- 心知天气的Github：[api-demo](https://github.com/seniverse/seniverse-api-demos)\n",
    "- 基于python的API－demo，用requests模块发生对API的请求，代码如下："
   ]
  },
  {
   "cell_type": "code",
   "execution_count": 4,
   "metadata": {},
   "outputs": [
    {
     "name": "stdout",
     "output_type": "stream",
     "text": [
      "请输入指令或您要查询的城市名：北京\n",
      "{\"results\":[{\"location\":{\"id\":\"WX4FBXXFKE4F\",\"name\":\"北京\",\"country\":\"CN\",\"path\":\"北京,北京,中国\",\"timezone\":\"Asia/Shanghai\",\"timezone_offset\":\"+08:00\"},\"now\":{\"text\":\"小雨\",\"code\":\"13\",\"temperature\":\"17\"},\"last_update\":\"2017-08-27T21:40:00+08:00\"}]}\n"
     ]
    }
   ],
   "source": [
    "import requests\n",
    "import sys\n",
    "\n",
    "def fetchWeather(location):\n",
    "    result = requests.get('https://api.seniverse.com/v3/weather/now.json', params={\n",
    "        'key': 'x4jusskdpoppmnrc',\n",
    "        'location': location,\n",
    "        'language': 'zh-Hans',\n",
    "        'unit': 'c'\n",
    "    }, timeout=1)\n",
    "    return result.text\n",
    "\n",
    "if __name__ == '__main__':\n",
    "    location =input(\"请输入指令或您要查询的城市名：\")\n",
    "    result = fetchWeather(location)\n",
    "print(result)"
   ]
  },
  {
   "cell_type": "markdown",
   "metadata": {},
   "source": [
    "- 如上代码，演示了用通过requests模块的get命令对API发送请求。\n",
    "- 对于web而言，常用的requests命令还有post，用来提交需要处理的数据。\n",
    "- get和post的区别可以参考：[http方法：get对比post](http://www.w3school.com.cn/tags/html_ref_httpmethods.asp)\n",
    "- requests模块的参考文档：[requests](http://docs.python-requests.org/en/master/user/quickstart/#json-response-content)\n",
    "\n",
    "### 3 处理API返回的数据\n",
    "1. json是一种存储信息的通用语句，常用数据交换结构。JSON (JavaScript Object Notation) is a lightweight data-interchange format.\n",
    "2. python3官方文档中json:[python3_json](https://docs.python.org/3/library/json.html)\n",
    "3. json语法：[json语法](http://www.w3school.com.cn/json/json_syntax.asp)\n",
    "\n",
    "#### decoding json（解码）\n",
    "官方文档的代码示例如下：\n"
   ]
  },
  {
   "cell_type": "code",
   "execution_count": 5,
   "metadata": {},
   "outputs": [
    {
     "data": {
      "text/plain": [
       "['streaming API']"
      ]
     },
     "execution_count": 5,
     "metadata": {},
     "output_type": "execute_result"
    }
   ],
   "source": [
    ">>> import json\n",
    ">>> json.loads('[\"foo\", {\"bar\":[\"baz\", null, 1.0, 2]}]')\n",
    "['foo', {'bar': ['baz', None, 1.0, 2]}]\n",
    ">>> json.loads('\"\\\\\"foo\\\\bar\"')\n",
    "'\"foo\\x08ar'\n",
    ">>> from io import StringIO\n",
    ">>> io = StringIO('[\"streaming API\"]')\n",
    ">>> json.load(io)\n",
    "['streaming API']"
   ]
  },
  {
   "cell_type": "markdown",
   "metadata": {},
   "source": [
    "- 对应ch2的任务，处理从天气API返回的数据，用json解码：\n"
   ]
  },
  {
   "cell_type": "code",
   "execution_count": 7,
   "metadata": {},
   "outputs": [],
   "source": [
    "result = fetchWeather(location) #调用函数，从API请求数据\n",
    "weather_json = json.loads(result) #用json处理从API返回的数据"
   ]
  },
  {
   "cell_type": "markdown",
   "metadata": {},
   "source": [
    "- json解码后，就可以用python的数据结构，对字典进行多重嵌套取值："
   ]
  },
  {
   "cell_type": "code",
   "execution_count": 9,
   "metadata": {
    "collapsed": true
   },
   "outputs": [],
   "source": [
    "weather = weather_json['results'][0]['now']['text']\n",
    "temperature = weather_json['results'][0]['now']['temperature']\n",
    "last_update = weather_json['results'][0]['last_update']"
   ]
  },
  {
   "cell_type": "markdown",
   "metadata": {},
   "source": [
    "## 参考文档\n",
    "1. requests模块的参考文档：[requests](http://docs.python-requests.org/en/master/user/quickstart/#json-response-content)\n",
    "2. python3官方文档中json:[python3_json](https://docs.python.org/3/library/json.html)\n",
    "3. json语法：[json语法](http://www.w3school.com.cn/json/json_syntax.asp)"
   ]
  }
 ],
 "metadata": {
  "kernelspec": {
   "display_name": "Python 3",
   "language": "python",
   "name": "python3"
  },
  "language_info": {
   "codemirror_mode": {
    "name": "ipython",
    "version": 3
   },
   "file_extension": ".py",
   "mimetype": "text/x-python",
   "name": "python",
   "nbconvert_exporter": "python",
   "pygments_lexer": "ipython3",
   "version": "3.6.1"
  }
 },
 "nbformat": 4,
 "nbformat_minor": 2
}
