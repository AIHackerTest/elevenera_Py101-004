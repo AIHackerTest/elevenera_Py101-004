{
 "cells": [
  {
   "cell_type": "markdown",
   "metadata": {},
   "source": [
    "# Ch3-Web开发入门\n",
    "## 本周任务：\n",
    "完成一个内网可用的天气查询程序。\n",
    "由此在ch2的基础上，将天气查询程序从基于CLI，改为基于Web，实现：\n",
    "1. 输入城市名称，查询对应的天气\n",
    "2. 点击'help'，查看如何使用\n",
    "3. 点击‘history’，查看历史记录\n",
    "\n",
    "## 本周主要知识点：\n",
    "1. web框架，如flask等\n",
    "2. 搭建HTML网页，用CSS设置样式\n",
    "3. 使用表单form，实现互动\n",
    "4. 使用网页模版，复用网页内容\n",
    "\n",
    "## 1. Web框架\n",
    "- web应用框架，是建立 web 应用的一种方式。\n",
    "- Python web 框架都以相同的方式工作的：它们接收 HTTP 请求，分派代码，产生 HTML，创建带有内容的 HTTP 响应。\n",
    "\n",
    "### flask--web框架（轻量级）\n",
    "- flask官方代码示例："
   ]
  },
  {
   "cell_type": "code",
   "execution_count": 1,
   "metadata": {
    "collapsed": true
   },
   "outputs": [],
   "source": [
    "from flask import Flask\n",
    "app = Flask(__name__)\n",
    "\n",
    "@app.route('/')\n",
    "def hello_world():\n",
    "    return 'Hello, World!'"
   ]
  },
  {
   "cell_type": "markdown",
   "metadata": {},
   "source": [
    "- @app.route()装饰器\n",
    "    - 设置url的变化，引导web应用跳转到不同的页面，实现不同的业务逻辑\n",
    "    - flask官方示例："
   ]
  },
  {
   "cell_type": "code",
   "execution_count": 2,
   "metadata": {
    "collapsed": true
   },
   "outputs": [],
   "source": [
    "@app.route('/')\n",
    "def index():\n",
    "    return 'Index Page'\n",
    "\n",
    "@app.route('/hello')\n",
    "def hello():\n",
    "    return 'Hello, World'"
   ]
  },
  {
   "cell_type": "markdown",
   "metadata": {},
   "source": [
    "- HTTP methods:GET vs POST\n",
    "    - GET：\n",
    "    \n",
    "    GET 方法就像其听起来的那样，从 web 服务器上 get（请求）数据。GET 请求是到目前位置最常见的一种 HTTP 请求，在一次 GET 请求过程中，web 应用对请求页面的 HTML 进行响应之外，就不需要做任何事情了。特别的，web 应用在 GET 请求的结果中，不应该改变应用的状态（比如，不能基于 GET 请求创建一个新帐号）。正是因为这个原因，GET 请求通常认为是“安全”的，因为他们不会导致应用的改变。\n",
    "\n",
    "    - POST：\n",
    "    \n",
    "    显然，除了简单的查看页面之外，应该还有更多与网站进行交互的操作。我们也能够向应用发送数据，例如通过表单。为了达到这样的目的，就需要一种不同类型的请求方法：POST。POST 请求通常携带由用户输入的数据，web 应用收到之后会产生一些行为。通过在表单里输入你的信息登录一个网站，就是 POST 表单的数据给 web 应用的。\n",
    "    \n",
    "    不同于 GET 请求，POST 请求通常会导致应用状态的改变。在我们的例子中，当表单 POST 之后，一个新的账户被创建。不同于 GET 请求，POST 请求不总是生成一个新的 HTML 页面发送到客户端，而是客户端使用响应的响应码（response code）来决定对应用的操作是否成功。\n",
    "    - flask官方示例代码：\n",
    "   "
   ]
  },
  {
   "cell_type": "code",
   "execution_count": 3,
   "metadata": {
    "collapsed": true
   },
   "outputs": [],
   "source": [
    "from flask import request\n",
    "\n",
    "@app.route('/login', methods=['GET', 'POST'])\n",
    "def login():\n",
    "    if request.method == 'POST':\n",
    "        do_the_login()\n",
    "    else:\n",
    "        show_the_login_form()\n"
   ]
  },
  {
   "cell_type": "markdown",
   "metadata": {},
   "source": [
    "- 渲染模版：由templates产生HTML\n",
    "    - tips:首先，在项目文件夹下建立“templates”子文件夹，渲染模版时才能找到对应的HTML\n",
    "    - flask官方文档示例： "
   ]
  },
  {
   "cell_type": "code",
   "execution_count": 5,
   "metadata": {
    "collapsed": true
   },
   "outputs": [],
   "source": [
    "from flask import render_template\n",
    "\n",
    "@app.route('/hello/')\n",
    "@app.route('/hello/<name>')\n",
    "def hello(name=None):\n",
    "    return render_template('hello.html', name=name)"
   ]
  },
  {
   "cell_type": "markdown",
   "metadata": {},
   "source": [
    "- 综上，现在可以完成ch3的网页版天气查询程序的用浏览器访问我写的HTML页面，代码如下："
   ]
  },
  {
   "cell_type": "code",
   "execution_count": 6,
   "metadata": {
    "collapsed": true
   },
   "outputs": [],
   "source": [
    "from flask import Flask, request, render_template\n",
    "\n",
    "app = Flask(__name__)\n",
    "\n",
    "@app.route('/', methods=['GET', 'POST'])\n",
    "def Index():\n",
    "    return render_template('home.html')"
   ]
  },
  {
   "cell_type": "markdown",
   "metadata": {},
   "source": [
    "## 2. 搭建HTML页面\n",
    "- HTML是一种超文本标记语言，基础教程参考：[HTML教程](http://www.w3school.com.cn/html/index.asp)\n",
    "- 一个HTML文件示例："
   ]
  },
  {
   "cell_type": "code",
   "execution_count": null,
   "metadata": {
    "collapsed": true
   },
   "outputs": [],
   "source": [
    "<!DOCTYPE html>\n",
    "<html>\n",
    "\n",
    "<head>\n",
    "<title>我的第一个 HTML 页面</title>\n",
    "</head>\n",
    "\n",
    "<body>\n",
    "<p>body 元素的内容会显示在浏览器中。</p>\n",
    "<p>title 元素的内容会显示在浏览器的标题栏中。</p>\n",
    "</body>\n",
    "\n",
    "</html>"
   ]
  },
  {
   "cell_type": "markdown",
   "metadata": {},
   "source": [
    "- 使用CSS设置模版样式\n",
    "    - 有内部样式表和外部样式表。内部样式表的优先级高于外部，在html文件中声明：style type=\"text/css\"\n",
    "    - 以ch3的‘home.html’文件为例："
   ]
  },
  {
   "cell_type": "code",
   "execution_count": null,
   "metadata": {
    "collapsed": true
   },
   "outputs": [],
   "source": [
    "<!DOCTYPE html>\n",
    "<html>\n",
    "\n",
    "<head>\n",
    "  <title>weather report</title>\n",
    "  <style type=\"text/css\">\n",
    "  body\n",
    "  {\n",
    "    padding: 20px;\n",
    "    text-align:center;\n",
    "    font-family: sans-serif;\n",
    "  }\n",
    "  p{color: white;font-size: 20px;text-align:center}\n",
    "  h1{text-align:center;}\n",
    "  form{font-size: 20px;}\n",
    "  input[type='text']\n",
    "  {\n",
    "    width: 450px;\n",
    "    height: 40px;\n",
    "    margin-bottom: 10px;\n",
    "    text-align:center;\n",
    "    font-size: 20px;\n",
    "    border:red solid thin;\n",
    "  }\n",
    "  </style>\n",
    "</head>\n"
   ]
  },
  {
   "cell_type": "markdown",
   "metadata": {},
   "source": [
    "## 3. 使用表单，实现互动\n",
    "- 怎么从网页获得用户的输入？——可以在HTML使用form表单\n",
    "- 表单类型type常用的有：text、submit等\n",
    "- ch3中的表单编写如下：\n",
    "- tips：\n",
    "    - 需要注意的是第一行｀form action=\"/location\" method=\"GET\"｀中action对应的url需与python业务逻辑对应\n",
    "    - HTTP method为‘GET’，可以在url中显示"
   ]
  },
  {
   "cell_type": "code",
   "execution_count": null,
   "metadata": {
    "collapsed": true
   },
   "outputs": [],
   "source": [
    "<form action=\"/location\" method=\"GET\">\n",
    "  <fieldset>\n",
    "    <legend>City Weather</legend>\n",
    "  您要查询天气的城市City:<br/>\n",
    "  <input type=\"text\" name=\"city\" placeholder=\"Input the name of city you want\">\n",
    "  <br/>\n",
    "  <input type=\"submit\" name=\"btn\" value=\"search\">\n",
    "  <input type=\"submit\" name=\"btn\" value=\"help\">\n",
    "  <input type=\"submit\" name=\"btn\" value=\"history\">\n",
    "</form>"
   ]
  },
  {
   "cell_type": "markdown",
   "metadata": {},
   "source": [
    "## 4. 使用网页模版，复用网页内容\n",
    "- 模板包含 变量 或 表达式 ，这两者在模板求值的时候会被替换为值。模板中 还有标签，控制模板的逻辑。\n",
    "- 模版继承：\n",
    "    - {% block %} 标签定义了子模版可以填充的块。所有的 block 标签 告诉模板引擎子模板可以覆盖模板中的这些部分。\n",
    "    - ch3中基础模版中可以填充的内容如下："
   ]
  },
  {
   "cell_type": "code",
   "execution_count": null,
   "metadata": {
    "collapsed": true
   },
   "outputs": [],
   "source": [
    "{% block content %}\n",
    "<p>Welcome to Eleven WeatherReport!</p>\n",
    "<p>天气数据来源于：\n",
    "<a href=\"https://www.seniverse.com/\">心知天气</a><br></p>\n",
    "{% endblock %}"
   ]
  },
  {
   "cell_type": "markdown",
   "metadata": {},
   "source": [
    "- 子模版：\n",
    "    - {% extend %} 标签是这里的关键。它告诉模板引擎这个模板“继承”另一个模板。 当模板系统对这个模板求值时，首先定位父模板。 extends 标签应该是模板中的第一个 标签。\n",
    "    - ch3中的‘history.html‘子模版如下："
   ]
  },
  {
   "cell_type": "code",
   "execution_count": null,
   "metadata": {
    "collapsed": true
   },
   "outputs": [],
   "source": [
    "{% extends \"home.html\" %}\n",
    "{% block content %}\n",
    "    <h3>您的查询历史是：<br/></h3>\n",
    "    <ul>\n",
    "    {% for weather_history in history %}\n",
    "        <li>{{ weather_history }}</li>\n",
    "    {% endfor %}\n",
    "  </ul>\n",
    "{% endblock %}"
   ]
  },
  {
   "cell_type": "markdown",
   "metadata": {},
   "source": [
    "### 综上，ch3中web应用实现交互的逻辑可以写为："
   ]
  },
  {
   "cell_type": "code",
   "execution_count": 9,
   "metadata": {
    "collapsed": true
   },
   "outputs": [],
   "source": [
    "@app.route('/location', methods=['GET', 'POST'])\n",
    "def weather_web():\n",
    "    while True:\n",
    "        if request.args.get('btn') == 'help':\n",
    "            return render_template('help.html')\n",
    "        elif request.args.get('btn') == 'history':\n",
    "            return render_template('history.html', history=history)\n",
    "        elif request.args.get('btn') == 'search':\n",
    "            location = request.args.get('city')\n",
    "            try:\n",
    "                weather_history = fetchWeather(location)\n",
    "                history.append(weather_history)\n",
    "                return render_template('result.html',\n",
    "                    weather_history=weather_history)\n",
    "            except KeyError:\n",
    "                return render_template('error.html')"
   ]
  },
  {
   "cell_type": "markdown",
   "metadata": {},
   "source": [
    "# 参考资料\n",
    "- [Web Framework](https://jeffknupp.com/blog/2014/03/03/what-is-a-web-framework/)，[中文版](http://www.cnblogs.com/hazir/p/what_is_web_framework.html)\n",
    "- [flask 官方文档](http://flask.pocoo.org/docs/0.12/quickstart/#accessing-request-data)\n",
    "- [HTML教程](http://www.w3school.com.cn/html/index.asp)\n",
    "- [CSS教程](http://www.w3school.com.cn/css/index.asp)\n",
    "- [jinja2 官方文档](http://jinja.pocoo.org/docs/2.9/)，[中文版](http://docs.jinkan.org/docs/jinja2/)"
   ]
  }
 ],
 "metadata": {
  "kernelspec": {
   "display_name": "Python 3",
   "language": "python",
   "name": "python3"
  },
  "language_info": {
   "codemirror_mode": {
    "name": "ipython",
    "version": 3
   },
   "file_extension": ".py",
   "mimetype": "text/x-python",
   "name": "python",
   "nbconvert_exporter": "python",
   "pygments_lexer": "ipython3",
   "version": "3.6.1"
  }
 },
 "nbformat": 4,
 "nbformat_minor": 2
}
